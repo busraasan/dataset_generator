{
 "cells": [
  {
   "cell_type": "code",
   "execution_count": 10,
   "metadata": {},
   "outputs": [
    {
     "data": {
      "application/vnd.jupyter.widget-view+json": {
       "model_id": "faa2e75835644429a7e5461ce03f6f4c",
       "version_major": 2,
       "version_minor": 0
      },
      "text/plain": [
       "Canvas(height=256, sync_image_data=True, width=256)"
      ]
     },
     "execution_count": 10,
     "metadata": {},
     "output_type": "execute_result"
    }
   ],
   "source": [
    "from math import pi\n",
    "import numpy as np\n",
    "from ipycanvas import Canvas\n",
    "\n",
    "def save_to_file(filename):\n",
    "    canvas.to_file(filename)\n",
    "\n",
    "def polygon(canvas, x, y, radius, n_points):\n",
    "    angles = (2 * pi / n_points) * np.arange(n_points)\n",
    "\n",
    "    v_x = x + np.cos(angles) * radius\n",
    "    v_y = y + np.sin(angles) * radius\n",
    "\n",
    "    points = np.stack((v_x, v_y), axis=1)\n",
    "\n",
    "    canvas.fill_polygon(points)\n",
    "\n",
    "num_samples = 10\n",
    "\n",
    "for i in range(num_samples):\n",
    "\n",
    "    canvas = Canvas(width=256, height=256, sync_image_data=True)\n",
    "\n",
    "    x = np.random.randint(0, canvas.width)\n",
    "    y = np.random.randint(0, canvas.width)\n",
    "    r = np.random.randint(50, 100)\n",
    "    colors_fill = np.random.randint(0, 255, size=(1, 3))\n",
    "    canvas.fill_styled_circles(x, y, r, color=colors_fill)\n",
    "\n",
    "canvas\n"
   ]
  }
 ],
 "metadata": {
  "kernelspec": {
   "display_name": "color",
   "language": "python",
   "name": "python3"
  },
  "language_info": {
   "codemirror_mode": {
    "name": "ipython",
    "version": 3
   },
   "file_extension": ".py",
   "mimetype": "text/x-python",
   "name": "python",
   "nbconvert_exporter": "python",
   "pygments_lexer": "ipython3",
   "version": "3.9.17"
  },
  "orig_nbformat": 4
 },
 "nbformat": 4,
 "nbformat_minor": 2
}
